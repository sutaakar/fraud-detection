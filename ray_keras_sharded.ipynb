{
 "cells": [
  {
   "cell_type": "markdown",
   "metadata": {
    "tags": []
   },
   "source": [
    "# Distributed training of a model\n",
    "\n",
    "Training a model is often the most time and resource consuming part of the machine learning process.  Large models can take multiple GPUs for days.  Expect the training on CPU for this very simple model to take a minute or more."
   ]
  },
  {
   "cell_type": "markdown",
   "metadata": {
    "tags": []
   },
   "source": [
    "## Setup Ray cluster for distribute training\n",
    "\n",
    "Ray cluster provides distributed training environment consisting of multiple pods. Training job is distributed among Ray pods based on available resources.\n",
    "Ray head pod serves as main point of contact for Ray API, providing Dashboard UI to observe Ray cluster status and processed job.\n",
    "\n",
    "CodeFlare SDK needs authentication information to be passed to work properly - OpenShift server URL and authentication token.\n",
    "If you are logged into cluster then you can retrieve authentication token by running `oc whoami -t`. OpenShift server URL can be retrieved from `oc cluster-info`.\n",
    "If you are running on OpenShift cluster using self signed certificate, set `skip_tls` in `TokenAuthentication` to `True`."
   ]
  },
  {
   "cell_type": "code",
   "execution_count": null,
   "metadata": {
    "tags": []
   },
   "outputs": [],
   "source": [
    "# Import codeflare-sdk dependencies\n",
    "from codeflare_sdk import Cluster, ClusterConfiguration, TokenAuthentication\n",
    "import os"
   ]
  },
  {
   "cell_type": "code",
   "execution_count": null,
   "metadata": {
    "tags": []
   },
   "outputs": [],
   "source": [
    "# Create authentication object for user permissions used by CodeFlare SDK\n",
    "auth = TokenAuthentication(\n",
    "    token = \"\",\n",
    "    server = \"\",\n",
    "    skip_tls=False\n",
    ")\n",
    "auth.login()"
   ]
  },
  {
   "cell_type": "code",
   "execution_count": null,
   "metadata": {
    "tags": []
   },
   "outputs": [],
   "source": [
    "# Create and configure Ray cluster\n",
    "cluster = Cluster(ClusterConfiguration(\n",
    "    name='fraud-detection',\n",
    "    head_cpus=2,\n",
    "    head_memory=6,\n",
    "    head_extended_resource_requests={'nvidia.com/gpu':0}, # For GPU enabled workloads set the head_extended_resource_requests and worker_extended_resource_requests\n",
    "    worker_extended_resource_requests={'nvidia.com/gpu':0},\n",
    "    num_workers=1,\n",
    "    worker_cpu_requests=1,\n",
    "    worker_cpu_limits=2,\n",
    "    worker_memory_requests=4,\n",
    "    worker_memory_limits=6,\n",
    "))"
   ]
  },
  {
   "cell_type": "code",
   "execution_count": null,
   "metadata": {
    "tags": []
   },
   "outputs": [],
   "source": [
    "# Bring up the cluster\n",
    "cluster.up()\n",
    "cluster.wait_ready()"
   ]
  },
  {
   "cell_type": "code",
   "execution_count": null,
   "metadata": {
    "tags": []
   },
   "outputs": [],
   "source": [
    "cluster.details()"
   ]
  },
  {
   "cell_type": "markdown",
   "metadata": {
    "tags": []
   },
   "source": [
    "## Submit distributed training job\n",
    "\n",
    "Once Ray cluster is up and running then we can submit training job itself.\n",
    "Ray will download dependencies defined in requirements.txt and execute training job.\n",
    "\n",
    "You can monitor submitted model training job either from Ray dashboard (URL available above in `cluster.details()` result) or using client functions below."
   ]
  },
  {
   "cell_type": "code",
   "execution_count": null,
   "metadata": {
    "tags": []
   },
   "outputs": [],
   "source": [
    "# Initialize the Job Submission Client\n",
    "\"\"\"\n",
    "The CodeFlare SDK will automatically gather the dashboard address and authenticate using the Ray Job Submission Client\n",
    "\"\"\"\n",
    "client = cluster.job_client"
   ]
  },
  {
   "cell_type": "code",
   "execution_count": null,
   "metadata": {
    "tags": []
   },
   "outputs": [],
   "source": [
    "# Submit a job creating and training fraud detection model\n",
    "submission_id = client.submit_job(\n",
    "    entrypoint=\"python fraud_detection_sharded.py\",\n",
    "    runtime_env={\n",
    "        \"working_dir\": \"./ray\",\n",
    "        \"pip\": \"./ray/requirements.txt\",\n",
    "        \"env_vars\": {\n",
    "            \"AWS_ACCESS_KEY_ID\": os.environ.get('AWS_ACCESS_KEY_ID'),\n",
    "            \"AWS_SECRET_ACCESS_KEY\": os.environ.get('AWS_SECRET_ACCESS_KEY'),\n",
    "            \"AWS_S3_ENDPOINT\": os.environ.get('AWS_S3_ENDPOINT')\n",
    "            \"AWS_S3_BUCKET\": os.environ.get('AWS_S3_BUCKET')\n",
    "        },\n",
    "    },\n",
    ")"
   ]
  },
  {
   "cell_type": "markdown",
   "metadata": {},
   "source": [
    "## Model training\n",
    "\n",
    "Code below provides log entries produced by training job. In the beginning there is a time delay between fist log appears - it is caused by downloading of needed resources (which doesn't provide any log output).\n",
    "Once Notebook cell finishes running then job finished training."
   ]
  },
  {
   "cell_type": "code",
   "execution_count": null,
   "metadata": {
    "tags": []
   },
   "outputs": [],
   "source": [
    "async for lines in client.tail_job_logs(submission_id):\n",
    "    print(lines, end=\"\") "
   ]
  },
  {
   "cell_type": "code",
   "execution_count": null,
   "metadata": {
    "tags": []
   },
   "outputs": [],
   "source": [
    "# Get job related info\n",
    "client.get_job_info(submission_id)"
   ]
  },
  {
   "cell_type": "code",
   "execution_count": null,
   "metadata": {
    "tags": []
   },
   "outputs": [],
   "source": [
    "# Delete the Ray cluster when you finished your training\n",
    "cluster.down()"
   ]
  }
 ],
 "metadata": {
  "kernelspec": {
   "display_name": "Python 3.9",
   "language": "python",
   "name": "python3"
  },
  "language_info": {
   "codemirror_mode": {
    "name": "ipython",
    "version": 3
   },
   "file_extension": ".py",
   "mimetype": "text/x-python",
   "name": "python",
   "nbconvert_exporter": "python",
   "pygments_lexer": "ipython3",
   "version": "3.9.18"
  },
  "vscode": {
   "interpreter": {
    "hash": "63462a1f26ab486248b2a0fd058a0d9f9a6566a80083a3e1eb8f35617f2381b2"
   }
  }
 },
 "nbformat": 4,
 "nbformat_minor": 4
}
